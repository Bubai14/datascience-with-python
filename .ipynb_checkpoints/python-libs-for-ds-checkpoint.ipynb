{
 "cells": [
  {
   "cell_type": "code",
   "execution_count": 1,
   "id": "86de2090",
   "metadata": {},
   "outputs": [],
   "source": [
    "# import the numpy library\n",
    "import numpy as np"
   ]
  },
  {
   "cell_type": "code",
   "execution_count": 3,
   "id": "80e8f3e1",
   "metadata": {},
   "outputs": [
    {
     "name": "stdout",
     "output_type": "stream",
     "text": [
      "[1 2 3 4]\n"
     ]
    }
   ],
   "source": [
    "# first numpy array\n",
    "np_array = np.array([1,2,3,4])\n",
    "print(np_array)"
   ]
  },
  {
   "cell_type": "code",
   "execution_count": 5,
   "id": "2eb089a5",
   "metadata": {},
   "outputs": [
    {
     "name": "stdout",
     "output_type": "stream",
     "text": [
      "[[0. 0. 0. 0.]\n",
      " [0. 0. 0. 0.]\n",
      " [0. 0. 0. 0.]\n",
      " [0. 0. 0. 0.]]\n"
     ]
    }
   ],
   "source": [
    "# arrays with zeros\n",
    "np_zeros = np.zeros((4,4))\n",
    "print(np_zeros)"
   ]
  },
  {
   "cell_type": "code",
   "execution_count": 6,
   "id": "f40dc9be",
   "metadata": {},
   "outputs": [
    {
     "name": "stdout",
     "output_type": "stream",
     "text": [
      "[[1. 1. 1. 1.]\n",
      " [1. 1. 1. 1.]\n",
      " [1. 1. 1. 1.]\n",
      " [1. 1. 1. 1.]]\n"
     ]
    }
   ],
   "source": [
    "# array with ones\n",
    "np_ones = np.ones((4,4))\n",
    "print(np_ones)"
   ]
  },
  {
   "cell_type": "code",
   "execution_count": 7,
   "id": "983ce95e",
   "metadata": {},
   "outputs": [
    {
     "name": "stdout",
     "output_type": "stream",
     "text": [
      "[[ 3.45126646e-31 -6.90253292e-31  1.72563323e-31]\n",
      " [-6.90253292e-31  1.50130091e-30 -4.65920972e-31]\n",
      " [ 1.72563323e-31 -4.65920972e-31  2.67473151e-31]]\n"
     ]
    }
   ],
   "source": [
    "# array with empty or random values\n",
    "np_empty = np.empty((3,3))\n",
    "print(np_empty)"
   ]
  },
  {
   "cell_type": "code",
   "execution_count": 8,
   "id": "a37bbb08",
   "metadata": {},
   "outputs": [
    {
     "name": "stdout",
     "output_type": "stream",
     "text": [
      "[ 0  1  2  3  4  5  6  7  8  9 10 11]\n"
     ]
    }
   ],
   "source": [
    "# array with arange\n",
    "np_arange = np.arange(12)\n",
    "print(np_arange)"
   ]
  },
  {
   "cell_type": "code",
   "execution_count": 9,
   "id": "c9075ad3",
   "metadata": {},
   "outputs": [
    {
     "name": "stdout",
     "output_type": "stream",
     "text": [
      "[[ 0  1  2  3]\n",
      " [ 4  5  6  7]\n",
      " [ 8  9 10 11]]\n"
     ]
    }
   ],
   "source": [
    "# reshape the array\n",
    "np_reshaped = np_arange.reshape(3,4)\n",
    "print(np_reshaped)"
   ]
  },
  {
   "cell_type": "code",
   "execution_count": 10,
   "id": "70ce23b7",
   "metadata": {},
   "outputs": [
    {
     "name": "stdout",
     "output_type": "stream",
     "text": [
      "[1.  1.8 2.6 3.4 4.2 5. ]\n"
     ]
    }
   ],
   "source": [
    "# linearly spaced\n",
    "np_linspaced = np.linspace(1,5,6)\n",
    "print(np_linspaced)"
   ]
  },
  {
   "cell_type": "code",
   "execution_count": 11,
   "id": "21eae201",
   "metadata": {},
   "outputs": [
    {
     "name": "stdout",
     "output_type": "stream",
     "text": [
      "[ 0  1  2  3  4  5  6  7  8  9 10 11]\n"
     ]
    }
   ],
   "source": [
    "# one dimension array\n",
    "oneD_array = np.arange(12)\n",
    "print(oneD_array)"
   ]
  },
  {
   "cell_type": "code",
   "execution_count": 14,
   "id": "8eac37d7",
   "metadata": {},
   "outputs": [
    {
     "name": "stdout",
     "output_type": "stream",
     "text": [
      "[[ 0  1  2  3]\n",
      " [ 4  5  6  7]\n",
      " [ 8  9 10 11]]\n"
     ]
    }
   ],
   "source": [
    "# two dimension array\n",
    "twoD_array = oneD_array.reshape(3,4)\n",
    "print(twoD_array)"
   ]
  },
  {
   "cell_type": "code",
   "execution_count": 15,
   "id": "eb5c51c4",
   "metadata": {},
   "outputs": [
    {
     "name": "stdout",
     "output_type": "stream",
     "text": [
      "[[[ 0  1  2]\n",
      "  [ 3  4  5]\n",
      "  [ 6  7  8]]\n",
      "\n",
      " [[ 9 10 11]\n",
      "  [12 13 14]\n",
      "  [15 16 17]]\n",
      "\n",
      " [[18 19 20]\n",
      "  [21 22 23]\n",
      "  [24 25 26]]]\n"
     ]
    }
   ],
   "source": [
    "# three dimension array\n",
    "threeD_array = np.arange(27).reshape(3,3,3)\n",
    "print(threeD_array)"
   ]
  },
  {
   "cell_type": "code",
   "execution_count": 16,
   "id": "a2bd299f",
   "metadata": {},
   "outputs": [
    {
     "name": "stdout",
     "output_type": "stream",
     "text": [
      "[ 0  1  2  3  4  5  6  7  8  9 10 11 12 13 14 15 16 17 18 19 20 21 22 23\n",
      " 24 25 26]\n"
     ]
    }
   ],
   "source": [
    "# convert into one dimension array\n",
    "oneD_array = threeD_array.reshape(-1)\n",
    "print(oneD_array)"
   ]
  },
  {
   "cell_type": "markdown",
   "id": "deeeaf6e",
   "metadata": {},
   "source": [
    "### Arithmetic Operations in NumPy"
   ]
  },
  {
   "cell_type": "code",
   "execution_count": 18,
   "id": "c170fee3",
   "metadata": {},
   "outputs": [],
   "source": [
    "A = np.array([[1,2,3],[4,5,6]])\n",
    "B = np.array([2,2,6])"
   ]
  },
  {
   "cell_type": "code",
   "execution_count": 19,
   "id": "9106cc7a",
   "metadata": {},
   "outputs": [
    {
     "data": {
      "text/plain": [
       "array([[ 3,  4,  9],\n",
       "       [ 6,  7, 12]])"
      ]
     },
     "execution_count": 19,
     "metadata": {},
     "output_type": "execute_result"
    }
   ],
   "source": [
    "# Add the arrays\n",
    "np.add(A, B)"
   ]
  },
  {
   "cell_type": "code",
   "execution_count": 20,
   "id": "3d1d0ccd",
   "metadata": {},
   "outputs": [
    {
     "data": {
      "text/plain": [
       "array([[-1,  0, -3],\n",
       "       [ 2,  3,  0]])"
      ]
     },
     "execution_count": 20,
     "metadata": {},
     "output_type": "execute_result"
    }
   ],
   "source": [
    "# Subtract the arrays\n",
    "np.subtract(A, B)"
   ]
  },
  {
   "cell_type": "code",
   "execution_count": 21,
   "id": "f1fe0472",
   "metadata": {},
   "outputs": [
    {
     "data": {
      "text/plain": [
       "array([[ 2,  4, 18],\n",
       "       [ 8, 10, 36]])"
      ]
     },
     "execution_count": 21,
     "metadata": {},
     "output_type": "execute_result"
    }
   ],
   "source": [
    "# Multiple the arrays\n",
    "np.multiply(A, B)"
   ]
  },
  {
   "cell_type": "code",
   "execution_count": 22,
   "id": "a37c2021",
   "metadata": {},
   "outputs": [
    {
     "data": {
      "text/plain": [
       "array([[0.5, 1. , 0.5],\n",
       "       [2. , 2.5, 1. ]])"
      ]
     },
     "execution_count": 22,
     "metadata": {},
     "output_type": "execute_result"
    }
   ],
   "source": [
    "# divide the arrays\n",
    "np.divide(A, B)"
   ]
  },
  {
   "cell_type": "code",
   "execution_count": 23,
   "id": "b7fd0665",
   "metadata": {},
   "outputs": [
    {
     "data": {
      "text/plain": [
       "array([[ 1,  4,  9],\n",
       "       [16, 25, 36]])"
      ]
     },
     "execution_count": 23,
     "metadata": {},
     "output_type": "execute_result"
    }
   ],
   "source": [
    "# power of 2\n",
    "np.power(A, 2)"
   ]
  },
  {
   "cell_type": "markdown",
   "id": "d33f155f",
   "metadata": {},
   "source": [
    "### Conditions in NumPy"
   ]
  },
  {
   "cell_type": "code",
   "execution_count": 24,
   "id": "38c7201c",
   "metadata": {},
   "outputs": [
    {
     "name": "stdout",
     "output_type": "stream",
     "text": [
      "[0 1 2 3 4 5 6 7 8 9]\n"
     ]
    }
   ],
   "source": [
    "np_array = np.array([i for i in range(10)])\n",
    "print(np_array)"
   ]
  },
  {
   "cell_type": "code",
   "execution_count": 27,
   "id": "91ea4dca",
   "metadata": {},
   "outputs": [
    {
     "data": {
      "text/plain": [
       "array(['Even', 'Odd', 'Even', 'Odd', 'Even', 'Odd', 'Even', 'Odd', 'Even',\n",
       "       'Odd'], dtype='<U4')"
      ]
     },
     "execution_count": 27,
     "metadata": {},
     "output_type": "execute_result"
    }
   ],
   "source": [
    "# Show the even and odd numbers\n",
    "np.where(np_array%2==0,'Even','Odd')"
   ]
  },
  {
   "cell_type": "code",
   "execution_count": 28,
   "id": "35f2c332",
   "metadata": {},
   "outputs": [
    {
     "data": {
      "text/plain": [
       "array([ 0,  1,  8, 27, 64,  5, 36, 49, 64, 81])"
      ]
     },
     "execution_count": 28,
     "metadata": {},
     "output_type": "execute_result"
    }
   ],
   "source": [
    "# Conditions for numbers greater than 5 and less than 5\n",
    "condlist = [np_array>5, np_array<5]\n",
    "# Square the numbers > 5 and Cube the numbers < 5\n",
    "choicelist = [np_array**2, np_array**3]\n",
    "np.select(condlist, choicelist, default=np_array)"
   ]
  },
  {
   "cell_type": "code",
   "execution_count": null,
   "id": "947ace77",
   "metadata": {},
   "outputs": [],
   "source": []
  }
 ],
 "metadata": {
  "kernelspec": {
   "display_name": "Python 3 (ipykernel)",
   "language": "python",
   "name": "python3"
  },
  "language_info": {
   "codemirror_mode": {
    "name": "ipython",
    "version": 3
   },
   "file_extension": ".py",
   "mimetype": "text/x-python",
   "name": "python",
   "nbconvert_exporter": "python",
   "pygments_lexer": "ipython3",
   "version": "3.9.13"
  }
 },
 "nbformat": 4,
 "nbformat_minor": 5
}
